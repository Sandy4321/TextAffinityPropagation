{
 "metadata": {
  "name": "",
  "signature": "sha256:cad35b0de65af3d4eec0a3622d62708cf99a00768f985bfcf0fcb02f78a9b900"
 },
 "nbformat": 3,
 "nbformat_minor": 0,
 "worksheets": [
  {
   "cells": [
    {
     "cell_type": "heading",
     "level": 1,
     "metadata": {},
     "source": [
      "Unknown Text Classification with Affinity Propagation"
     ]
    },
    {
     "cell_type": "raw",
     "metadata": {},
     "source": [
      "The aim of this excercise is to cluster, with the eventual aim of classifying, an array of text documents with Affinity Propagation.  The reason for usilising Affinity Propagation, as opposed to other commonly used clustering-algorithms such as K-Means or Meanshift,  is the absenteeism of an inital number of cluster definitions, thus allowing the the eventual classification-clusters to scale as required, given a single dataset containing an unknown quantity of clusters."
     ]
    },
    {
     "cell_type": "raw",
     "metadata": {},
     "source": [
      "The dataset for this example is an array of \"content\" strings taken from the Meta-Description tags of 1936 websites. The hope is to identify a total of N clusters, represented in the intermediate as integer values."
     ]
    },
    {
     "cell_type": "heading",
     "level": 3,
     "metadata": {},
     "source": [
      "Initial imports"
     ]
    },
    {
     "cell_type": "code",
     "collapsed": false,
     "input": [
      "import numpy as np\n",
      "import pandas as pd"
     ],
     "language": "python",
     "metadata": {},
     "outputs": [],
     "prompt_number": 1
    },
    {
     "cell_type": "heading",
     "level": 3,
     "metadata": {},
     "source": [
      "Load Meta-Description [CSV] data into an array"
     ]
    },
    {
     "cell_type": "code",
     "collapsed": false,
     "input": [
      "desc = np.array(pd.read_csv(\"descriptions.csv\"))"
     ],
     "language": "python",
     "metadata": {},
     "outputs": [],
     "prompt_number": 10
    },
    {
     "cell_type": "heading",
     "level": 3,
     "metadata": {},
     "source": [
      "Copy the last column of the 'desc' array in a list of strings"
     ]
    },
    {
     "cell_type": "code",
     "collapsed": false,
     "input": [
      "strings = [str(x) for x in desc[:, 2:3]]"
     ],
     "language": "python",
     "metadata": {},
     "outputs": [],
     "prompt_number": 12
    },
    {
     "cell_type": "heading",
     "level": 3,
     "metadata": {},
     "source": [
      "Initalise a CountVectorizer to extract text to vectors"
     ]
    },
    {
     "cell_type": "code",
     "collapsed": false,
     "input": [
      "from sklearn.feature_extraction.text import CountVectorizer"
     ],
     "language": "python",
     "metadata": {},
     "outputs": [],
     "prompt_number": 16
    },
    {
     "cell_type": "code",
     "collapsed": false,
     "input": [
      "vectorizer = CountVectorizer()"
     ],
     "language": "python",
     "metadata": {},
     "outputs": [],
     "prompt_number": 17
    },
    {
     "cell_type": "heading",
     "level": 3,
     "metadata": {},
     "source": [
      "Create matrix 'X' from 'strings' "
     ]
    },
    {
     "cell_type": "code",
     "collapsed": false,
     "input": [
      "X = vectorizer.fit_transform(strings).toarray()"
     ],
     "language": "python",
     "metadata": {},
     "outputs": [],
     "prompt_number": 18
    },
    {
     "cell_type": "heading",
     "level": 3,
     "metadata": {},
     "source": [
      "Initialise Affinity Propagation algorithm"
     ]
    },
    {
     "cell_type": "code",
     "collapsed": false,
     "input": [
      "from sklearn.cluster import AffinityPropagation"
     ],
     "language": "python",
     "metadata": {},
     "outputs": [],
     "prompt_number": 21
    },
    {
     "cell_type": "code",
     "collapsed": false,
     "input": [
      "afprop = AffinityPropagation()"
     ],
     "language": "python",
     "metadata": {},
     "outputs": [],
     "prompt_number": 22
    },
    {
     "cell_type": "heading",
     "level": 3,
     "metadata": {},
     "source": [
      "Fit 'afprop' to matrix 'X'"
     ]
    },
    {
     "cell_type": "code",
     "collapsed": false,
     "input": [
      "af = afprop.fit(X)"
     ],
     "language": "python",
     "metadata": {},
     "outputs": [],
     "prompt_number": 23
    },
    {
     "cell_type": "raw",
     "metadata": {},
     "source": [
      "After the Affinity Propagation algorithm has been fitted to matrix 'X',  several attributes are now available, of which 'labels_' is of most note;  this contains the indexed integer-classification for each string within matric 'X'. "
     ]
    },
    {
     "cell_type": "code",
     "collapsed": false,
     "input": [
      "classes = pd.DataFrame(af.labels_)"
     ],
     "language": "python",
     "metadata": {},
     "outputs": [],
     "prompt_number": 28
    },
    {
     "cell_type": "heading",
     "level": 3,
     "metadata": {},
     "source": [
      "Join cluster-classes to the original CSV-data array along the 'y' axis"
     ]
    },
    {
     "cell_type": "code",
     "collapsed": false,
     "input": [
      "join_cols = np.concatenate((np.array(desc), np.array(classes)), axis=1)"
     ],
     "language": "python",
     "metadata": {},
     "outputs": [],
     "prompt_number": 29
    },
    {
     "cell_type": "heading",
     "level": 3,
     "metadata": {},
     "source": [
      "Create a new DataFrame from the joined arrays and render to a CSV file"
     ]
    },
    {
     "cell_type": "code",
     "collapsed": false,
     "input": [
      "new_frame = pd.DataFrame(join_cols)"
     ],
     "language": "python",
     "metadata": {},
     "outputs": [],
     "prompt_number": 30
    },
    {
     "cell_type": "code",
     "collapsed": false,
     "input": [
      "new_frame.to_csv(\"results.csv\")"
     ],
     "language": "python",
     "metadata": {},
     "outputs": [],
     "prompt_number": 31
    }
   ],
   "metadata": {}
  }
 ]
}